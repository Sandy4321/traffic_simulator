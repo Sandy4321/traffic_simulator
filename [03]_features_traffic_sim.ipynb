{
 "cells": [
  {
   "cell_type": "code",
   "execution_count": 1,
   "metadata": {
    "collapsed": true
   },
   "outputs": [],
   "source": [
    "%load_ext autoreload\n",
    "%autoreload 2"
   ]
  },
  {
   "cell_type": "code",
   "execution_count": 2,
   "metadata": {
    "collapsed": true
   },
   "outputs": [],
   "source": [
    "import matplotlib.pyplot as plt\n",
    "import numpy as np\n",
    "import networkx as nx\n",
    "import seaborn as sns\n",
    "import pandas as pd\n",
    "from graph_trafic import Traffic"
   ]
  },
  {
   "cell_type": "code",
   "execution_count": 3,
   "metadata": {
    "collapsed": true
   },
   "outputs": [],
   "source": [
    "edge_list = [(0, 1, {'w': 2}),\n",
    "             (1, 2, {'w': 2}),\n",
    "             (2, 3, {'w': 2}),\n",
    "             (3, 6, {'w': 2}),\n",
    "             (1, 4, {'w': 2}),\n",
    "             (4, 5, {'w': 2}),\n",
    "             (5, 3, {'w': 2})]\n"
   ]
  },
  {
   "cell_type": "code",
   "execution_count": 10,
   "metadata": {
    "collapsed": true
   },
   "outputs": [],
   "source": [
    "G = Traffic(edge_list=edge_list, layout='spectral')\n",
    "\n",
    "observations = []\n",
    "total_reward = []\n",
    "for i in range(30):\n",
    "    state, reward, finished = G.step(refeed=True)\n",
    "    observations.append(state)\n",
    "    total_reward.append(reward)\n",
    "    if finished:\n",
    "        break"
   ]
  },
  {
   "cell_type": "code",
   "execution_count": 11,
   "metadata": {
    "collapsed": false
   },
   "outputs": [
    {
     "data": {
      "text/plain": [
       "[array([  1.,   8.,   7.,   2.,  10.,  11.,   6.,   6.]),\n",
       " array([  1.,   8.,   7.,   2.,  10.,   9.,   8.,   6.]),\n",
       " array([  1.,   8.,   7.,   2.,  10.,   7.,  10.,   6.]),\n",
       " array([  2.,   8.,   7.,   2.,  10.,   5.,  12.,   6.]),\n",
       " array([  3.,   8.,   7.,   2.,  10.,   3.,  14.,   6.]),\n",
       " array([  3.,   8.,   7.,   2.,  10.,   1.,  16.,   6.]),\n",
       " array([  3.,   8.,   7.,   2.,  10.,   0.,  17.,   6.]),\n",
       " array([  3.,   8.,   7.,   2.,  10.,   0.,  17.,   6.]),\n",
       " array([  3.,   8.,   7.,   2.,  10.,   0.,  17.,   6.]),\n",
       " array([  6.,   8.,   7.,   2.,  10.,   0.,  17.,   6.])]"
      ]
     },
     "execution_count": 11,
     "metadata": {},
     "output_type": "execute_result"
    }
   ],
   "source": [
    "observations"
   ]
  },
  {
   "cell_type": "code",
   "execution_count": 12,
   "metadata": {
    "collapsed": false
   },
   "outputs": [
    {
     "data": {
      "text/plain": [
       "[-1, -1, -1, -1, -1, -1, -1, -1, -1, 20]"
      ]
     },
     "execution_count": 12,
     "metadata": {},
     "output_type": "execute_result"
    }
   ],
   "source": [
    "total_reward"
   ]
  },
  {
   "cell_type": "code",
   "execution_count": 13,
   "metadata": {
    "collapsed": false
   },
   "outputs": [
    {
     "data": {
      "image/png": "[encoded data removed]",
      "text/plain": [
       "<matplotlib.figure.Figure at 0xf0fec50>"
      ]
     },
     "metadata": {},
     "output_type": "display_data"
    }
   ],
   "source": [
    "G.plot_graph()\n",
    "plt.show()"
   ]
  },
  {
   "cell_type": "markdown",
   "metadata": {},
   "source": [
    "# Emergency agent\n",
    "\n",
    "The reward is computed on the car_1 traffic time. This agent will optimize the whole traffic for this car.\n",
    "\n",
    "If car_1 is positioned on a node that accumulate cars, we need to open the next gate."
   ]
  },
  {
   "cell_type": "code",
   "execution_count": 120,
   "metadata": {
    "collapsed": false
   },
   "outputs": [],
   "source": [
    "epochs = 10000\n",
    "emergency_agent = []\n",
    "\n",
    "for _ in range(epochs):\n",
    "    G = Traffic(edge_list=edge_list)\n",
    "\n",
    "    observations = []\n",
    "    total_reward = 0\n",
    "    previouspos = 0\n",
    "    for i in range(30):\n",
    "        state, reward, finished = G.step(refeed=True)\n",
    "        observations.append(state)\n",
    "        total_reward += (reward)\n",
    "\n",
    "        car1 = int(state[0]) + 1\n",
    "        obs = [x[car1] for x in observations[-3:]]\n",
    "        if len(obs) > 2:\n",
    "            blocked = all(x<y for x, y in zip(obs, obs[1:]))\n",
    "            if (car1 != previouspos) and blocked:\n",
    "                vector = np.ones_like(G.gates)\n",
    "                G.action(vector)\n",
    "                previouspos = car1\n",
    "        if finished:\n",
    "            break\n",
    "    emergency_agent.append(total_reward)"
   ]
  },
  {
   "cell_type": "code",
   "execution_count": 121,
   "metadata": {
    "collapsed": false
   },
   "outputs": [
    {
     "data": {
      "image/png": "[encoded data removed]",
      "text/plain": [
       "<matplotlib.figure.Figure at 0xf8d1ef0>"
      ]
     },
     "metadata": {},
     "output_type": "display_data"
    }
   ],
   "source": [
    "df = pd.DataFrame({'emergency_agent': emergency_agent\n",
    "                  })\n",
    "df.plot.kde()\n",
    "plt.show()"
   ]
  },
  {
   "cell_type": "code",
   "execution_count": null,
   "metadata": {
    "collapsed": true
   },
   "outputs": [],
   "source": []
  }
 ],
 "metadata": {
  "kernelspec": {
   "display_name": "Python [default]",
   "language": "python",
   "name": "python2"
  },
  "language_info": {
   "codemirror_mode": {
    "name": "ipython",
    "version": 2
   },
   "file_extension": ".py",
   "mimetype": "text/x-python",
   "name": "python",
   "nbconvert_exporter": "python",
   "pygments_lexer": "ipython2",
   "version": "2.7.13"
  }
 },
 "nbformat": 4,
 "nbformat_minor": 2
}
